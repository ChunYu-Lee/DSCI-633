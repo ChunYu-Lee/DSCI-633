{
 "cells": [
  {
   "cell_type": "code",
   "execution_count": 8,
   "metadata": {},
   "outputs": [
    {
     "name": "stdout",
     "output_type": "stream",
     "text": [
      "[array([0.97851136, 0.98003889]), array([0.97851136, 0.98003889]), array([0.97851136, 0.98003889]), array([0.97851136, 0.98003889]), array([0.97851136, 0.98003889]), array([0.97851136, 0.98003889]), array([0.97851136, 0.98003889]), array([0.97851136, 0.98003889]), array([0.97851136, 0.98003889]), array([0.97851136, 0.98003889])]\n",
      "[0.96524161]\n"
     ]
    }
   ],
   "source": [
    "from my_GA_hint import my_GA\n",
    "import pandas as pd\n",
    "from pdb import set_trace\n",
    "####### import my_DT and my_evaluation#######\n",
    "import sys\n",
    "\n",
    "sys.path.insert(0, '..')\n",
    "from assignment2.my_DT import my_DT\n",
    "from assignment8.my_evaluation import my_evaluation\n",
    "\n",
    "\n",
    "##################################################\n",
    "\n",
    "def obj_func1(predictions, actuals, pred_proba=None):\n",
    "    # Two objectives: higher recall and higher precision\n",
    "    eval = my_evaluation(predictions, actuals, pred_proba)\n",
    "    return [eval.recall(), eval.precision()]\n",
    "\n",
    "\n",
    "def obj_func2(predictions, actuals, pred_proba=None):\n",
    "    # One objectives: higher f1 score\n",
    "    eval = my_evaluation(predictions, actuals, pred_proba)\n",
    "    return [eval.f1()]\n",
    "\n",
    "\n",
    "if __name__ == \"__main__\":\n",
    "    # Load training data\n",
    "    data_train = pd.read_csv(\"../data/Iris_train.csv\")\n",
    "    # Separate independent variables and dependent variables\n",
    "    independent = [\"SepalLengthCm\", \"SepalWidthCm\", \"PetalLengthCm\", \"PetalWidthCm\"]\n",
    "    X = data_train[independent]\n",
    "    y = data_train[\"Species\"]\n",
    "    # Multi-objective\n",
    "    ga = my_GA(my_DT, X, y, [(\"gini\", \"entropy\"), [1, 16], [0, 0.1]], obj_func1, generation_size=10, crossval_fold=2,\n",
    "               max_generation=10, max_life=2)\n",
    "    frontier = ga.tune()\n",
    "    \n",
    "    objs = [ga.evaluate(decision) for decision in frontier]\n",
    "    \n",
    "    \n",
    "    print(objs)\n",
    "    # Single objective\n",
    "    ga2 = my_GA(my_DT, X, y, [(\"gini\", \"entropy\"), [1, 16], [0, 0.1]], obj_func2, generation_size=10, crossval_fold=2,\n",
    "                max_generation=10, max_life=2)\n",
    "    best = ga2.tune()\n",
    "#     set_trace()\n",
    "    print(ga2.evaluate(best[0]))\n"
   ]
  },
  {
   "cell_type": "code",
   "execution_count": 3,
   "metadata": {},
   "outputs": [
    {
     "name": "stdout",
     "output_type": "stream",
     "text": [
      "True\n"
     ]
    }
   ],
   "source": [
    "a = [1,1]\n",
    "b = [1,2]\n",
    "print(b>a)"
   ]
  },
  {
   "cell_type": "code",
   "execution_count": null,
   "metadata": {},
   "outputs": [],
   "source": []
  }
 ],
 "metadata": {
  "kernelspec": {
   "display_name": "Python 3",
   "language": "python",
   "name": "python3"
  },
  "language_info": {
   "codemirror_mode": {
    "name": "ipython",
    "version": 3
   },
   "file_extension": ".py",
   "mimetype": "text/x-python",
   "name": "python",
   "nbconvert_exporter": "python",
   "pygments_lexer": "ipython3",
   "version": "3.6.5"
  }
 },
 "nbformat": 4,
 "nbformat_minor": 4
}
