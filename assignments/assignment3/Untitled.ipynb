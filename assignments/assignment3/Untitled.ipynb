{
 "cells": [
  {
   "cell_type": "code",
   "execution_count": 3,
   "metadata": {},
   "outputs": [
    {
     "name": "stdout",
     "output_type": "stream",
     "text": [
      "cochlear_age\t0.999521\n",
      "cochlear_age\t0.999521\n",
      "cochlear_age\t0.916993\n",
      "cochlear_age\t0.884235\n",
      "cochlear_age\t0.992682\n",
      "cochlear_age\t0.997389\n",
      "cochlear_age\t0.998464\n",
      "cochlear_age\t0.998464\n",
      "cochlear_unknown\t0.544500\n",
      "cochlear_unknown\t0.910852\n",
      "normal_ear\t0.557834\n",
      "cochlear_unknown\t0.675143\n",
      "normal_ear\t0.610634\n",
      "normal_ear\t0.962589\n",
      "cochlear_age\t0.998042\n",
      "cochlear_age\t0.992743\n",
      "normal_ear\t0.983963\n",
      "mixed_cochlear_unk_fixation\t0.673145\n",
      "cochlear_age\t0.982039\n",
      "cochlear_age\t0.996243\n",
      "cochlear_age\t0.973995\n",
      "cochlear_age\t0.923532\n",
      "normal_ear\t0.983963\n",
      "mixed_cochlear_unk_fixation\t0.699765\n",
      "cochlear_age\t0.704385\n",
      "cochlear_age\t0.475773\n"
     ]
    }
   ],
   "source": [
    "from my_NB_hint import my_NB\n",
    "import pandas as pd\n",
    "\n",
    "if __name__ == \"__main__\":\n",
    "    #  Load training data\n",
    "    data_train = pd.read_csv(\"../data/audiology_train\",header=None)\n",
    "    # Separate independent variables and dependent variables\n",
    "    independent = range(69)\n",
    "    X = data_train[independent]\n",
    "    y = data_train[70]\n",
    "    # Train model\n",
    "    clf = my_NB()\n",
    "    clf.fit(X,y)\n",
    "    # Load testing data\n",
    "    data_test = pd.read_csv(\"../data/audiology_test\",header=None)\n",
    "    X_test = data_test[independent]\n",
    "    # Predict\n",
    "    predictions = clf.predict(X_test)\n",
    "    # Predict probabilities\n",
    "    probs = clf.predict_proba(X_test)\n",
    "    # Print results\n",
    "    for i,pred in enumerate(predictions):\n",
    "        print(\"%s\\t%f\" % (pred, probs[pred][i]))"
   ]
  },
  {
   "cell_type": "code",
   "execution_count": null,
   "metadata": {},
   "outputs": [],
   "source": []
  }
 ],
 "metadata": {
  "kernelspec": {
   "display_name": "Python 3",
   "language": "python",
   "name": "python3"
  },
  "language_info": {
   "codemirror_mode": {
    "name": "ipython",
    "version": 3
   },
   "file_extension": ".py",
   "mimetype": "text/x-python",
   "name": "python",
   "nbconvert_exporter": "python",
   "pygments_lexer": "ipython3",
   "version": "3.6.5"
  }
 },
 "nbformat": 4,
 "nbformat_minor": 4
}
