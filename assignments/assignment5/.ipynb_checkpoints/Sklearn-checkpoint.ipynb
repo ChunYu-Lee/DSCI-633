{
 "cells": [
  {
   "cell_type": "code",
   "execution_count": 14,
   "metadata": {},
   "outputs": [
    {
     "name": "stdout",
     "output_type": "stream",
     "text": [
      "[0.00740741 0.00740741 0.00740741 0.00740741 0.00740741 0.00740741\n",
      " 0.00740741 0.00740741 0.00740741 0.00740741 0.00740741 0.00740741\n",
      " 0.00740741 0.00740741 0.00740741 0.00740741 0.00740741 0.00740741\n",
      " 0.00740741 0.00740741 0.00740741 0.00740741 0.00740741 0.00740741\n",
      " 0.00740741 0.00740741 0.00740741 0.00740741 0.00740741 0.00740741\n",
      " 0.00740741 0.00740741 0.00740741 0.00740741 0.00740741 0.00740741\n",
      " 0.00740741 0.00740741 0.00740741 0.00740741 0.00740741 0.00740741\n",
      " 0.00740741 0.00740741 0.00740741 0.00740741 0.00740741 0.00740741\n",
      " 0.00740741 0.00740741 0.00740741 0.00740741 0.00740741 0.00740741\n",
      " 0.00740741 0.00740741 0.00740741 0.00740741 0.00740741 0.00740741\n",
      " 0.00740741 0.00740741 0.00740741 0.00740741 0.00740741 0.00740741\n",
      " 0.00740741 0.00740741 0.00740741 0.00740741 0.00740741 0.00740741\n",
      " 0.00740741 0.00740741 0.00740741 0.00740741 0.00740741 0.00740741\n",
      " 0.00740741 0.00740741 0.00740741 0.00740741 0.00740741 0.00740741\n",
      " 0.00740741 0.00740741 0.00740741 0.00740741 0.00740741 0.00740741\n",
      " 0.00740741 0.00740741 0.00740741 0.00740741 0.00740741 0.00740741\n",
      " 0.00740741 0.00740741 0.00740741 0.00740741 0.00740741 0.00740741\n",
      " 0.00740741 0.00740741 0.00740741 0.00740741 0.00740741 0.00740741\n",
      " 0.00740741 0.00740741 0.00740741 0.00740741 0.00740741 0.00740741\n",
      " 0.00740741 0.00740741 0.00740741 0.00740741 0.00740741 0.00740741\n",
      " 0.00740741 0.00740741 0.00740741 0.00740741 0.00740741 0.00740741\n",
      " 0.00740741 0.00740741 0.00740741 0.00740741 0.00740741 0.00740741\n",
      " 0.00740741 0.00740741 0.00740741]\n"
     ]
    }
   ],
   "source": [
    "import pandas as pd\n",
    "import numpy as np\n",
    "from copy import deepcopy\n",
    "\n",
    "data_train = pd.read_csv(\"../data/Iris_train.csv\")\n",
    "# Separate independent variables and dependent variables\n",
    "independent = [\"SepalLengthCm\",\t\"SepalWidthCm\",\t\"PetalLengthCm\",\t\"PetalWidthCm\"]\n",
    "X = data_train[independent]\n",
    "y = data_train[\"Species\"]\n",
    "\n",
    "base_estimator = None\n",
    "n_estimators = int(50)\n",
    "estimators = [deepcopy(base_estimator) for i in range(n_estimators)]\n",
    "\n",
    "\n",
    "classes_ = list(set(list(y)))\n",
    "n = len(y)\n",
    "w = np.array([1.0 / n] * n)\n",
    "\n",
    "sample = np.random.choice(n, n, p=w)\n",
    "sampled = X.iloc[sample]\n",
    "\n",
    "# print(sample)\n",
    "# print(sampled)\n",
    "estimators[0] = 1\n",
    "print(w)\n"
   ]
  },
  {
   "cell_type": "code",
   "execution_count": 37,
   "metadata": {},
   "outputs": [
    {
     "name": "stdout",
     "output_type": "stream",
     "text": [
      "['Iris-setosa' 'Iris-setosa' 'Iris-setosa' 'Iris-setosa' 'Iris-setosa'\n",
      " 'Iris-versicolor' 'Iris-versicolor' 'Iris-versicolor' 'Iris-versicolor'\n",
      " 'Iris-versicolor' 'Iris-virginica' 'Iris-virginica' 'Iris-virginica'\n",
      " 'Iris-virginica' 'Iris-virginica']\n",
      "               0         1             2\n",
      "0   9.999928e-01  0.000007  4.026576e-07\n",
      "1   9.999928e-01  0.000007  4.026576e-07\n",
      "2   9.999928e-01  0.000007  4.026576e-07\n",
      "3   9.999928e-01  0.000007  4.026576e-07\n",
      "4   9.999928e-01  0.000007  4.026576e-07\n",
      "5   4.390007e-11  0.943708  5.629230e-02\n",
      "6   4.390007e-11  0.943708  5.629230e-02\n",
      "7   4.390007e-11  0.943708  5.629230e-02\n",
      "8   4.390007e-11  0.943708  5.629230e-02\n",
      "9   4.390007e-11  0.943708  5.629230e-02\n",
      "10  3.025637e-16  0.044245  9.557554e-01\n",
      "11  6.897439e-14  0.266213  7.337873e-01\n",
      "12  3.025637e-16  0.044245  9.557554e-01\n",
      "13  3.025637e-16  0.044245  9.557554e-01\n",
      "14  6.897439e-14  0.266213  7.337873e-01\n"
     ]
    }
   ],
   "source": [
    "from sklearn.ensemble import AdaBoostClassifier\n",
    "from sklearn.tree import DecisionTreeClassifier\n",
    "\n",
    "import pandas as pd\n",
    "\n",
    "if __name__ == \"__main__\":\n",
    "    #  Load training data\n",
    "    data_train = pd.read_csv(\"../data/Iris_train.csv\")\n",
    "    # Separate independent variables and dependent variables\n",
    "    independent = [\"SepalLengthCm\",\t\"SepalWidthCm\",\t\"PetalLengthCm\",\t\"PetalWidthCm\"]\n",
    "    X = data_train[independent]\n",
    "    y = data_train[\"Species\"]\n",
    "    # Train model\n",
    "    base_estimator = DecisionTreeClassifier(criterion = \"entropy\", max_depth = 1)\n",
    "    clf = AdaBoostClassifier(n_estimators = 10, base_estimator = base_estimator)\n",
    "    clf.fit(X, y)\n",
    "    # Load testing data\n",
    "    data_test = pd.read_csv(\"../data/Iris_test.csv\")\n",
    "    X_test = data_test[independent]\n",
    "    # Predict\n",
    "    predictions = clf.predict(X_test)\n",
    "    # Predict probabilities\n",
    "    probs = clf.predict_proba(X_test)\n",
    "    # Print results\n",
    "    print(predictions)\n",
    "    print(pd.DataFrame(probs))\n",
    "#     for i, pred in enumerate(predictions):\n",
    "#         print(\"%s\\t%f\" % (pred, probs[pred][i]))"
   ]
  },
  {
   "cell_type": "code",
   "execution_count": null,
   "metadata": {},
   "outputs": [],
   "source": []
  }
 ],
 "metadata": {
  "kernelspec": {
   "display_name": "Python 3",
   "language": "python",
   "name": "python3"
  },
  "language_info": {
   "codemirror_mode": {
    "name": "ipython",
    "version": 3
   },
   "file_extension": ".py",
   "mimetype": "text/x-python",
   "name": "python",
   "nbconvert_exporter": "python",
   "pygments_lexer": "ipython3",
   "version": "3.6.5"
  }
 },
 "nbformat": 4,
 "nbformat_minor": 4
}
