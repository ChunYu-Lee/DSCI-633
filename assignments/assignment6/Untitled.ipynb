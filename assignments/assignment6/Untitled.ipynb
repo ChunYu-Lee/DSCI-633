{
 "cells": [
  {
   "cell_type": "code",
   "execution_count": 144,
   "metadata": {},
   "outputs": [
    {
     "name": "stdout",
     "output_type": "stream",
     "text": [
      "[array([[5.5, 2.3, 4. , 1.3]]), array([[4.5, 2.3, 1.3, 0.3]]), array([[5.7, 2.5, 5. , 2. ]]), array([[5.1, 3.7, 1.5, 0.4]]), array([[5.4, 3. , 4.5, 1.5]]), array([[5.1, 3.8, 1.9, 0.4]]), array([[4.9, 3.1, 1.5, 0.1]]), array([[6.4, 3.2, 5.3, 2.3]])]\n"
     ]
    }
   ],
   "source": [
    "import pandas as pd\n",
    "import numpy as np\n",
    "\n",
    "if __name__ == \"__main__\":\n",
    "    #  Load training data\n",
    "    data_train = pd.read_csv(\"../data/Iris_train.csv\")\n",
    "    # Separate independent variables and dependent variables\n",
    "    independent = [\"SepalLengthCm\",\t\"SepalWidthCm\",\t\"PetalLengthCm\",\t\"PetalWidthCm\"]\n",
    "    X = data_train[independent]\n",
    "    y = data_train[\"Species\"]\n",
    "    def dist(a, b):\n",
    "            # Compute Euclidean distance between a and b\n",
    "            return np.sum((np.array(a)-np.array(b))**2)**(0.5)\n",
    "    \n",
    "    n_clusters = 8\n",
    "    cluster_centers = []\n",
    "    w = np.array([1/len(X)]*len(X))\n",
    "    min_square_d = np.array(0 * n_clusters)\n",
    "    X = X.to_numpy()\n",
    "    for i in range(n_clusters):\n",
    "        sample = np.random.choice(len(X), 1, p=w)\n",
    "        cluster_centers.append(X[sample])\n",
    "        dists = []\n",
    "        \n",
    "        for x in X:\n",
    "            # calculate distances between x and each cluster center\n",
    "            d = (dist(x, cluster_centers[i]))\n",
    "            dists.append(d)\n",
    "\n",
    "        w = (dists/sum(dists))\n",
    "    print(cluster_centers)"
   ]
  },
  {
   "cell_type": "code",
   "execution_count": 40,
   "metadata": {},
   "outputs": [
    {
     "name": "stdout",
     "output_type": "stream",
     "text": [
      "Iteration: 0 Random choice is \n",
      "[1]\n",
      "Iteration: 1 Random choice is \n",
      "[4]\n",
      "Iteration: 2 Random choice is \n",
      "[2]\n",
      "Iteration: 3 Random choice is \n",
      "[4]\n",
      "Iteration: 4 Random choice is \n",
      "[2]\n",
      "Iteration: 5 Random choice is \n",
      "[4]\n",
      "Iteration: 6 Random choice is \n",
      "[0]\n",
      "Iteration: 7 Random choice is \n",
      "[3]\n",
      "Iteration: 8 Random choice is \n",
      "[3]\n",
      "Iteration: 9 Random choice is \n",
      "[4]\n",
      "Iteration: 10 Random choice is \n",
      "[3]\n",
      "Iteration: 11 Random choice is \n",
      "[4]\n",
      "Iteration: 12 Random choice is \n",
      "[4]\n",
      "Iteration: 13 Random choice is \n",
      "[3]\n",
      "Iteration: 14 Random choice is \n",
      "[3]\n",
      "Iteration: 0 Random choice is \n"
     ]
    },
    {
     "ename": "TypeError",
     "evalue": "choice() got an unexpected keyword argument 'cum_weights'",
     "output_type": "error",
     "traceback": [
      "\u001b[0;31m---------------------------------------------------------------------------\u001b[0m",
      "\u001b[0;31mTypeError\u001b[0m                                 Traceback (most recent call last)",
      "\u001b[0;32m<ipython-input-40-81ebf703ef80>\u001b[0m in \u001b[0;36m<module>\u001b[0;34m()\u001b[0m\n\u001b[1;32m     12\u001b[0m \u001b[0;32mfor\u001b[0m \u001b[0mi\u001b[0m \u001b[0;32min\u001b[0m \u001b[0mrange\u001b[0m\u001b[0;34m(\u001b[0m\u001b[0;36m5\u001b[0m\u001b[0;34m)\u001b[0m\u001b[0;34m:\u001b[0m\u001b[0;34m\u001b[0m\u001b[0m\n\u001b[1;32m     13\u001b[0m     \u001b[0mprint\u001b[0m\u001b[0;34m(\u001b[0m\u001b[0;34m\"Iteration:\"\u001b[0m\u001b[0;34m,\u001b[0m \u001b[0mi\u001b[0m\u001b[0;34m,\u001b[0m \u001b[0;34m\"Random choice is \"\u001b[0m\u001b[0;34m)\u001b[0m\u001b[0;34m\u001b[0m\u001b[0m\n\u001b[0;32m---> 14\u001b[0;31m     \u001b[0mrandomItem\u001b[0m \u001b[0;34m=\u001b[0m \u001b[0mnp\u001b[0m\u001b[0;34m.\u001b[0m\u001b[0mrandom\u001b[0m\u001b[0;34m.\u001b[0m\u001b[0mchoice\u001b[0m\u001b[0;34m(\u001b[0m\u001b[0mnumberList\u001b[0m\u001b[0;34m,\u001b[0m \u001b[0mcum_weights\u001b[0m\u001b[0;34m=\u001b[0m\u001b[0;34m(\u001b[0m\u001b[0;36m5\u001b[0m\u001b[0;34m,\u001b[0m \u001b[0;36m15\u001b[0m\u001b[0;34m,\u001b[0m \u001b[0;36m30\u001b[0m\u001b[0;34m,\u001b[0m \u001b[0;36m50\u001b[0m\u001b[0;34m)\u001b[0m\u001b[0;34m,\u001b[0m \u001b[0mk\u001b[0m\u001b[0;34m=\u001b[0m\u001b[0;36m1\u001b[0m\u001b[0;34m)\u001b[0m\u001b[0;34m\u001b[0m\u001b[0m\n\u001b[0m\u001b[1;32m     15\u001b[0m     \u001b[0mprint\u001b[0m\u001b[0;34m(\u001b[0m\u001b[0mrandomItem\u001b[0m\u001b[0;34m[\u001b[0m\u001b[0;36m0\u001b[0m\u001b[0;34m]\u001b[0m\u001b[0;34m)\u001b[0m\u001b[0;34m\u001b[0m\u001b[0m\n",
      "\u001b[0;32mmtrand.pyx\u001b[0m in \u001b[0;36mnumpy.random.mtrand.RandomState.choice\u001b[0;34m()\u001b[0m\n",
      "\u001b[0;31mTypeError\u001b[0m: choice() got an unexpected keyword argument 'cum_weights'"
     ]
    }
   ],
   "source": [
    "import numpy as np\n",
    "import random\n",
    "\n",
    "a = [1,2,3,4,5]\n",
    "\n",
    "for i in range(15):\n",
    "    print(\"Iteration:\", i, \"Random choice is \")\n",
    "    randomItem = np.random.choice(5, 1, (.11, .1, .3, .5, .1))\n",
    "    print(randomItem)\n",
    "\n",
    "numberList = [\"Kelly\", \"Scott\", \"Emma\", \"Jon\"]\n",
    "for i in range(5):\n",
    "    print(\"Iteration:\", i, \"Random choice is \")\n",
    "    randomItem = np.random.choice(numberList, cum_weights=(5, 15, 30, 50), k=1)\n",
    "    print(randomItem[0])"
   ]
  },
  {
   "cell_type": "code",
   "execution_count": null,
   "metadata": {},
   "outputs": [],
   "source": []
  }
 ],
 "metadata": {
  "kernelspec": {
   "display_name": "Python 3",
   "language": "python",
   "name": "python3"
  },
  "language_info": {
   "codemirror_mode": {
    "name": "ipython",
    "version": 3
   },
   "file_extension": ".py",
   "mimetype": "text/x-python",
   "name": "python",
   "nbconvert_exporter": "python",
   "pygments_lexer": "ipython3",
   "version": "3.6.5"
  }
 },
 "nbformat": 4,
 "nbformat_minor": 4
}
