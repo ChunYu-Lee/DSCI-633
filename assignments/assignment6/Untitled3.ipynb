{
 "cells": [
  {
   "cell_type": "code",
   "execution_count": 6,
   "metadata": {},
   "outputs": [
    {
     "name": "stdout",
     "output_type": "stream",
     "text": [
      "Classes:\n",
      "[('Iris-setosa', 2), ('Iris-setosa', 2), ('Iris-setosa', 2), ('Iris-setosa', 2), ('Iris-setosa', 2), ('Iris-setosa', 2), ('Iris-setosa', 2), ('Iris-setosa', 2), ('Iris-setosa', 2), ('Iris-setosa', 2), ('Iris-setosa', 2), ('Iris-setosa', 2), ('Iris-setosa', 2), ('Iris-setosa', 2), ('Iris-setosa', 2), ('Iris-setosa', 2), ('Iris-setosa', 2), ('Iris-setosa', 2), ('Iris-setosa', 2), ('Iris-setosa', 2), ('Iris-setosa', 2), ('Iris-setosa', 2), ('Iris-setosa', 2), ('Iris-setosa', 2), ('Iris-setosa', 2), ('Iris-setosa', 2), ('Iris-setosa', 2), ('Iris-setosa', 2), ('Iris-setosa', 2), ('Iris-setosa', 2), ('Iris-setosa', 2), ('Iris-setosa', 2), ('Iris-setosa', 2), ('Iris-setosa', 2), ('Iris-setosa', 2), ('Iris-setosa', 2), ('Iris-setosa', 2), ('Iris-setosa', 2), ('Iris-setosa', 2), ('Iris-setosa', 2), ('Iris-setosa', 2), ('Iris-setosa', 2), ('Iris-setosa', 2), ('Iris-setosa', 2), ('Iris-setosa', 2), ('Iris-versicolor', 1), ('Iris-versicolor', 1), ('Iris-versicolor', 1), ('Iris-versicolor', 1), ('Iris-versicolor', 1), ('Iris-versicolor', 1), ('Iris-versicolor', 1), ('Iris-versicolor', 2), ('Iris-versicolor', 1), ('Iris-versicolor', 1), ('Iris-versicolor', 1), ('Iris-versicolor', 1), ('Iris-versicolor', 1), ('Iris-versicolor', 1), ('Iris-versicolor', 1), ('Iris-versicolor', 1), ('Iris-versicolor', 1), ('Iris-versicolor', 1), ('Iris-versicolor', 1), ('Iris-versicolor', 1), ('Iris-versicolor', 1), ('Iris-versicolor', 1), ('Iris-versicolor', 1), ('Iris-versicolor', 1), ('Iris-versicolor', 2), ('Iris-versicolor', 1), ('Iris-versicolor', 1), ('Iris-versicolor', 1), ('Iris-versicolor', 1), ('Iris-versicolor', 1), ('Iris-versicolor', 1), ('Iris-versicolor', 1), ('Iris-versicolor', 1), ('Iris-versicolor', 1), ('Iris-versicolor', 1), ('Iris-versicolor', 1), ('Iris-versicolor', 1), ('Iris-versicolor', 1), ('Iris-versicolor', 2), ('Iris-versicolor', 1), ('Iris-versicolor', 1), ('Iris-versicolor', 1), ('Iris-versicolor', 1), ('Iris-versicolor', 2), ('Iris-versicolor', 1), ('Iris-virginica', 1), ('Iris-virginica', 1), ('Iris-virginica', 1), ('Iris-virginica', 1), ('Iris-virginica', 1), ('Iris-virginica', 1), ('Iris-virginica', 1), ('Iris-virginica', 1), ('Iris-virginica', 1), ('Iris-virginica', 1), ('Iris-virginica', 1), ('Iris-virginica', 1), ('Iris-virginica', 1), ('Iris-virginica', 1), ('Iris-virginica', 1), ('Iris-virginica', 1), ('Iris-virginica', 1), ('Iris-virginica', 1), ('Iris-virginica', 1), ('Iris-virginica', 1), ('Iris-virginica', 1), ('Iris-virginica', 1), ('Iris-virginica', 1), ('Iris-virginica', 1), ('Iris-virginica', 1), ('Iris-virginica', 1), ('Iris-virginica', 1), ('Iris-virginica', 1), ('Iris-virginica', 1), ('Iris-virginica', 1), ('Iris-virginica', 1), ('Iris-virginica', 1), ('Iris-virginica', 1), ('Iris-virginica', 1), ('Iris-virginica', 1), ('Iris-virginica', 1), ('Iris-virginica', 1), ('Iris-virginica', 1), ('Iris-virginica', 1), ('Iris-virginica', 1), ('Iris-virginica', 1), ('Iris-virginica', 1), ('Iris-virginica', 1), ('Iris-virginica', 1), ('Iris-virginica', 1)]\n",
      "Centroids:\n",
      "[array([6. , 2.9, 4.5, 1.5]), array([5. , 3.4, 1.5, 0.2]), array([6.8, 3. , 5.5, 2.1])]\n",
      "Inertia: 85.664621\n",
      "Testing data:\n",
      "[[4.052159917870962, 0.9055385138137417, 5.441507144165117], [3.71887079635741, 1.0440306508910548, 4.90917508345343], [3.5425979167836705, 1.2369316876852987, 4.696807426326951], [3.5791060336346563, 0.7000000000000002, 4.8270073544588685], [3.4957116585897072, 0.1999999999999999, 4.815599651133803], [0.6403124237432845, 3.691882988394946, 1.2247448713915894], [1.0246950765959597, 2.7802877548915683, 2.3874672772626644], [1.74928556845359, 2.569046515733026, 3.0740852297878796], [0.33166247903553975, 3.154362059117501, 1.691153452528776], [0.9949874371066197, 3.054504869860253, 2.177154105707724], [2.8266588050205144, 6.158733636065129, 1.5165750888103104], [0.6164414002968976, 4.037325847637271, 0.8888194417315587], [1.5652475842498532, 4.914264950122246, 0.374165738677394], [1.9672315572906003, 5.262128846769148, 0.7348469228349537], [0.47958315233127197, 3.905124837953327, 0.9899494936611666]]\n",
      "[2, 2, 2, 2, 2, 1, 1, 2, 1, 1, 1, 1, 1, 1, 1]\n"
     ]
    }
   ],
   "source": [
    "from my_KMeans_hint import my_KMeans\n",
    "import pandas as pd\n",
    "\n",
    "if __name__ == \"__main__\":\n",
    "    #  Load training data\n",
    "    data_train = pd.read_csv(\"../data/Iris_train.csv\")\n",
    "    # Separate independent variables and dependent variables\n",
    "    independent = [\"SepalLengthCm\",\t\"SepalWidthCm\",\t\"PetalLengthCm\",\t\"PetalWidthCm\"]\n",
    "    X = data_train[independent]\n",
    "    y = data_train[\"Species\"]\n",
    "    # Train model\n",
    "    clf = my_KMeans(n_clusters=3)\n",
    "    y_p = clf.fit_predict(X)\n",
    "    # Show training results\n",
    "    print(\"Classes:\")\n",
    "    print([(y[i], y_p[i]) for i in range(len(y))])\n",
    "    print(\"Centroids:\")\n",
    "    print(clf.cluster_centers_)\n",
    "    print(\"Inertia: %f\" %clf.inertia_)\n",
    "\n",
    "    # Load testing data\n",
    "    data_test = pd.read_csv(\"../data/Iris_test.csv\")\n",
    "    X_test = data_test[independent]\n",
    "    # Transform test data to cluster-distance space\n",
    "    dists = clf.transform(X_test)\n",
    "    print(\"Testing data:\")\n",
    "    print(dists)\n",
    "    print(clf.predict(X_test))"
   ]
  },
  {
   "cell_type": "code",
   "execution_count": null,
   "metadata": {},
   "outputs": [],
   "source": []
  }
 ],
 "metadata": {
  "kernelspec": {
   "display_name": "Python 3",
   "language": "python",
   "name": "python3"
  },
  "language_info": {
   "codemirror_mode": {
    "name": "ipython",
    "version": 3
   },
   "file_extension": ".py",
   "mimetype": "text/x-python",
   "name": "python",
   "nbconvert_exporter": "python",
   "pygments_lexer": "ipython3",
   "version": "3.6.5"
  }
 },
 "nbformat": 4,
 "nbformat_minor": 4
}
