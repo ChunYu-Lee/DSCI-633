{
 "cells": [
  {
   "cell_type": "code",
   "execution_count": 3,
   "metadata": {},
   "outputs": [
    {
     "name": "stdout",
     "output_type": "stream",
     "text": [
      "Classes:\n",
      "[('Iris-setosa', 2), ('Iris-setosa', 2), ('Iris-setosa', 2), ('Iris-setosa', 2), ('Iris-setosa', 2), ('Iris-setosa', 2), ('Iris-setosa', 2), ('Iris-setosa', 2), ('Iris-setosa', 2), ('Iris-setosa', 2), ('Iris-setosa', 2), ('Iris-setosa', 2), ('Iris-setosa', 2), ('Iris-setosa', 2), ('Iris-setosa', 2), ('Iris-setosa', 2), ('Iris-setosa', 2), ('Iris-setosa', 2), ('Iris-setosa', 2), ('Iris-setosa', 2), ('Iris-setosa', 2), ('Iris-setosa', 2), ('Iris-setosa', 2), ('Iris-setosa', 2), ('Iris-setosa', 2), ('Iris-setosa', 2), ('Iris-setosa', 2), ('Iris-setosa', 2), ('Iris-setosa', 2), ('Iris-setosa', 2), ('Iris-setosa', 2), ('Iris-setosa', 2), ('Iris-setosa', 2), ('Iris-setosa', 2), ('Iris-setosa', 2), ('Iris-setosa', 2), ('Iris-setosa', 2), ('Iris-setosa', 2), ('Iris-setosa', 2), ('Iris-setosa', 2), ('Iris-setosa', 2), ('Iris-setosa', 2), ('Iris-setosa', 2), ('Iris-setosa', 2), ('Iris-setosa', 2), ('Iris-versicolor', 1), ('Iris-versicolor', 0), ('Iris-versicolor', 1), ('Iris-versicolor', 0), ('Iris-versicolor', 0), ('Iris-versicolor', 0), ('Iris-versicolor', 0), ('Iris-versicolor', 0), ('Iris-versicolor', 0), ('Iris-versicolor', 0), ('Iris-versicolor', 0), ('Iris-versicolor', 0), ('Iris-versicolor', 0), ('Iris-versicolor', 0), ('Iris-versicolor', 0), ('Iris-versicolor', 0), ('Iris-versicolor', 0), ('Iris-versicolor', 0), ('Iris-versicolor', 0), ('Iris-versicolor', 0), ('Iris-versicolor', 0), ('Iris-versicolor', 0), ('Iris-versicolor', 1), ('Iris-versicolor', 0), ('Iris-versicolor', 0), ('Iris-versicolor', 0), ('Iris-versicolor', 0), ('Iris-versicolor', 0), ('Iris-versicolor', 0), ('Iris-versicolor', 0), ('Iris-versicolor', 0), ('Iris-versicolor', 0), ('Iris-versicolor', 0), ('Iris-versicolor', 0), ('Iris-versicolor', 0), ('Iris-versicolor', 0), ('Iris-versicolor', 0), ('Iris-versicolor', 0), ('Iris-versicolor', 0), ('Iris-versicolor', 0), ('Iris-versicolor', 0), ('Iris-versicolor', 0), ('Iris-versicolor', 0), ('Iris-versicolor', 0), ('Iris-versicolor', 0), ('Iris-virginica', 1), ('Iris-virginica', 0), ('Iris-virginica', 1), ('Iris-virginica', 1), ('Iris-virginica', 1), ('Iris-virginica', 1), ('Iris-virginica', 0), ('Iris-virginica', 1), ('Iris-virginica', 1), ('Iris-virginica', 1), ('Iris-virginica', 1), ('Iris-virginica', 1), ('Iris-virginica', 1), ('Iris-virginica', 0), ('Iris-virginica', 0), ('Iris-virginica', 1), ('Iris-virginica', 1), ('Iris-virginica', 1), ('Iris-virginica', 1), ('Iris-virginica', 0), ('Iris-virginica', 1), ('Iris-virginica', 0), ('Iris-virginica', 0), ('Iris-virginica', 1), ('Iris-virginica', 1), ('Iris-virginica', 1), ('Iris-virginica', 1), ('Iris-virginica', 1), ('Iris-virginica', 0), ('Iris-virginica', 1), ('Iris-virginica', 1), ('Iris-virginica', 1), ('Iris-virginica', 1), ('Iris-virginica', 0), ('Iris-virginica', 1), ('Iris-virginica', 1), ('Iris-virginica', 1), ('Iris-virginica', 0), ('Iris-virginica', 1), ('Iris-virginica', 1), ('Iris-virginica', 1), ('Iris-virginica', 0), ('Iris-virginica', 1), ('Iris-virginica', 1), ('Iris-virginica', 0)]\n",
      "Centroids:\n",
      "[[5.88333333 2.75740741 4.4037037  1.43888889]\n",
      " [6.825      3.075      5.68055556 2.06111111]\n",
      " [4.97777778 3.38       1.48222222 0.24      ]]\n",
      "Inertia: 67.455130\n",
      "Testing data:\n",
      "[[3.90805287 5.58647438 0.87719812]\n",
      " [3.65370277 5.04433966 1.06850305]\n",
      " [3.49892939 4.82261183 1.26012737]\n",
      " [3.50019939 4.96586418 0.71237388]\n",
      " [3.38885802 4.9579147  0.19924549]\n",
      " [0.76926336 1.35208744 3.70218087]\n",
      " [0.85174516 2.52758699 2.77543368]\n",
      " [1.53728579 3.21978715 2.56006269]\n",
      " [0.32304599 1.83524942 3.15734222]\n",
      " [0.82456914 2.32303116 3.05845438]\n",
      " [2.98159593 1.37268042 6.17006473]\n",
      " [0.74405509 1.04579921 4.04047974]\n",
      " [1.75465186 0.26103722 4.92155451]\n",
      " [2.1466398  0.57137883 5.2739537 ]\n",
      " [0.62413452 1.14446804 3.90787366]]\n",
      "[2 2 2 2 2 0 0 0 0 0 1 0 1 1 0]\n"
     ]
    }
   ],
   "source": [
    "from sklearn.cluster import KMeans\n",
    "import pandas as pd\n",
    "\n",
    "if __name__ == \"__main__\":\n",
    "    #  Load training data\n",
    "    data_train = pd.read_csv(\"../data/Iris_train.csv\")\n",
    "    # Separate independent variables and dependent variables\n",
    "    independent = [\"SepalLengthCm\",\t\"SepalWidthCm\",\t\"PetalLengthCm\",\t\"PetalWidthCm\"]\n",
    "    X = data_train[independent]\n",
    "    y = data_train[\"Species\"]\n",
    "    # Train model\n",
    "    clf = KMeans(n_clusters=3)\n",
    "    y_p = clf.fit_predict(X)\n",
    "    # Show training results\n",
    "    print(\"Classes:\")\n",
    "    print([(y[i], y_p[i]) for i in range(len(y))])\n",
    "    print(\"Centroids:\")\n",
    "    print(clf.cluster_centers_)\n",
    "    print(\"Inertia: %f\" %clf.inertia_)\n",
    "\n",
    "    # Load testing data\n",
    "    data_test = pd.read_csv(\"../data/Iris_test.csv\")\n",
    "    X_test = data_test[independent]\n",
    "    # Transform test data to cluster-distance space\n",
    "    dists = clf.transform(X_test)\n",
    "    print(\"Testing data:\")\n",
    "    print(dists)\n",
    "    print(clf.predict(X_test))"
   ]
  }
 ],
 "metadata": {
  "kernelspec": {
   "display_name": "Python 3",
   "language": "python",
   "name": "python3"
  },
  "language_info": {
   "codemirror_mode": {
    "name": "ipython",
    "version": 3
   },
   "file_extension": ".py",
   "mimetype": "text/x-python",
   "name": "python",
   "nbconvert_exporter": "python",
   "pygments_lexer": "ipython3",
   "version": "3.6.5"
  }
 },
 "nbformat": 4,
 "nbformat_minor": 4
}
